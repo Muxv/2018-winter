{
 "cells": [
  {
   "cell_type": "code",
   "execution_count": 1,
   "metadata": {},
   "outputs": [],
   "source": [
    "\"\"\"\n",
    "借鉴于\n",
    "https://github.com/MorvanZhou/Evolutionary-Algorithm/blob/master/tutorial-contents/Evolution%20Strategy/Evolution%20Strategy%20Basic.py\n",
    "\n",
    "\"\"\"\n",
    "import numpy as np\n",
    "import matplotlib.pyplot as plt\n",
    "DNA_SIZE = 1             # DNA (real number) 即要求的x = argmax(F)\n",
    "DNA_BOUND = [0, 5]       # solution upper and lower bounds\n",
    "N_GENERATIONS = 200\n",
    "POP_SIZE = 100           # population size\n",
    "N_KID = 50               # n kids per generation"
   ]
  },
  {
   "cell_type": "code",
   "execution_count": 3,
   "metadata": {},
   "outputs": [],
   "source": [
    "import tensorflow as tf\n",
    "sess = tf.Session(config=tf.ConfigProto(log_device_placement=True))"
   ]
  },
  {
   "cell_type": "code",
   "execution_count": 4,
   "metadata": {},
   "outputs": [
    {
     "name": "stdout",
     "output_type": "stream",
     "text": [
      "[[ 22.  28.]\n",
      " [ 49.  64.]]\n"
     ]
    }
   ],
   "source": [
    "import tensorflow as tf\n",
    "a = tf.constant([1.,2.,3.,4.,5.,6.], shape=[2,3], name='a')\n",
    "b = tf.constant([1.,2.,3.,4.,5.,6.], shape=[3,2], name='b')\n",
    "c = tf.matmul(a,b)\n",
    "\n",
    "with tf.Session(config= tf.ConfigProto(log_device_placement=True)) as sess:\n",
    "    print(sess.run(c))"
   ]
  },
  {
   "cell_type": "code",
   "execution_count": 2,
   "metadata": {},
   "outputs": [],
   "source": [
    "def cal_fitness(x):\n",
    "    return np.sin(10*x)*x + np.cos(2*x)*x"
   ]
  },
  {
   "cell_type": "code",
   "execution_count": 3,
   "metadata": {},
   "outputs": [],
   "source": [
    "# np.random.rand(返回的是0-1的)\n",
    "# np.random.randn(返回标准正态分布中的数值)\n",
    "# np.random.random(返回0-1的小数，作用于rand相似，前者参数可以不用tuple表示)\n",
    "pop = dict(DNA = 5 * np.random.rand(1, DNA_SIZE).repeat(POP_SIZE, axis=0),\n",
    "           mut_strength = np.random.rand(POP_SIZE, DNA_SIZE))"
   ]
  },
  {
   "cell_type": "code",
   "execution_count": 4,
   "metadata": {},
   "outputs": [],
   "source": [
    "def make_kid(pop, n_kid):\n",
    "    kids = {\"DNA\":np.empty((n_kid, DNA_SIZE))}\n",
    "    kids[\"mut_strength\"] = np.empty_like(kids[\"DNA\"])\n",
    "    for kv, ks in zip(kids[\"DNA\"], kids[\"mut_strength\"]):\n",
    "        p1, p2 = np.random.choice(np.arange(POP_SIZE), size = 2, replace = False) # 获取父母1，2\n",
    "        cp = np.random.randint(0, 2, DNA_SIZE, dtype=np.bool) # 是否取p1 or p2\n",
    "        kv[cp] = pop[\"DNA\"][p1, cp] # (第p1个，是否取)\n",
    "        kv[~cp] = pop[\"DNA\"][p2, ~cp] # (不取p1，就取p2)\n",
    "\n",
    "        ks[cp] = pop['mut_strength'][p1, cp]\n",
    "        ks[~cp] = pop['mut_strength'][p2, ~cp]    \n",
    "        \n",
    "        #变异\n",
    "        \n",
    "        # *ks.shape表示把ks.shape这里的tuple里的每一个元素都传入函数\n",
    "        ks[:] = np.maximum(ks + (np.random.rand(*ks.shape)-0.5), 0.) # 稳定的变异，且保持在不小于0\n",
    "        # 将变异强度变异以后, 他就能在快收敛的时候很自觉的逐渐减小变异强度, 方便收敛.\n",
    "        kv += ks * np.random.randn(*kv.shape)\n",
    "        # np.clip(a, a_min, a_max, out = None)把大于a_max和小于a_min的全部用a_max/a_min取代\n",
    "        kv[:] = np.clip(kv, *DNA_BOUND) \n",
    "        \n",
    "    return kids"
   ]
  },
  {
   "cell_type": "code",
   "execution_count": 5,
   "metadata": {},
   "outputs": [],
   "source": [
    "def kill_bad(pop, kids):\n",
    "    # 组合在一起\n",
    "    for key in [\"DNA\", \"mut_strength\"]:\n",
    "        pop[key] = np.vstack((pop[key], kids[key])) # np.vstack(tuple) 将两个组合在一起\n",
    "\n",
    "    fitness = (cal_fitness(pop[\"DNA\"])).flatten() # 变为一阶\n",
    "    idx = np.arange(pop[\"DNA\"].shape[0])\n",
    "    # x.argsort() 将x中的元素从小到大排序，提取其index\n",
    "    good_idx = idx[fitness.argsort()][-POP_SIZE:] # 取最大的POP_SIZE个\n",
    "    for key in [\"DNA\", \"mut_strength\"]:\n",
    "        pop[key] = pop[key][good_idx]\n",
    "        \n",
    "    return pop"
   ]
  },
  {
   "cell_type": "code",
   "execution_count": 8,
   "metadata": {},
   "outputs": [
    {
     "data": {
      "image/png": "[encoded data removed]",
      "text/plain": [
       "<matplotlib.figure.Figure at 0x259d4fb79e8>"
      ]
     },
     "metadata": {},
     "output_type": "display_data"
    }
   ],
   "source": [
    "# numpy.linspace(start, stop, num=50, endpoint=True, \n",
    "#                retstep=False, dtype=None)[source]\n",
    "# 返回一个num数量元素的list, 从start 到 \n",
    "\n",
    "plt.ion() # 打开交互模式\n",
    "X = np.linspace(*DNA_BOUND, 200)\n",
    "plt.plot(X, cal_fitness(X))\n",
    "\n",
    "for i in range(N_GENERATIONS):\n",
    "    if 'sca' in globals(): sca.remove()    \n",
    "    sca = plt.scatter(pop[\"DNA\"],cal_fitness(pop[\"DNA\"]),\n",
    "                          s=200, lw=0, c=\"red\", alpha=0.5)\n",
    "    plt.pause(0.05)\n",
    "        \n",
    "    kids = make_kid(pop, N_KID)\n",
    "    pop = kill_bad(pop, kids)\n",
    "    # print(np.max(cal_fitness(pop[\"DNA\"].flatten())))\n",
    "plt.ioff()\n",
    "plt.show()\n",
    "# plt.show()"
   ]
  },
  {
   "cell_type": "code",
   "execution_count": null,
   "metadata": {},
   "outputs": [],
   "source": []
  }
 ],
 "metadata": {
  "kernelspec": {
   "display_name": "Python 3",
   "language": "python",
   "name": "python3"
  },
  "language_info": {
   "codemirror_mode": {
    "name": "ipython",
    "version": 3
   },
   "file_extension": ".py",
   "mimetype": "text/x-python",
   "name": "python",
   "nbconvert_exporter": "python",
   "pygments_lexer": "ipython3",
   "version": "3.6.3"
  }
 },
 "nbformat": 4,
 "nbformat_minor": 2
}
