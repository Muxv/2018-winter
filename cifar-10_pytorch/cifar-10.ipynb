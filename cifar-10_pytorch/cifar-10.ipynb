{
 "cells": [
  {
   "cell_type": "code",
   "execution_count": 1,
   "metadata": {},
   "outputs": [],
   "source": [
    "from utils import *\n",
    "import torch\n",
    "import torch.nn as nn\n",
    "import torch.optim as optim\n",
    "from torch.optim import lr_scheduler\n",
    "\n",
    "import torchvision\n",
    "from torchvision.datasets import CIFAR10\n",
    "from torchvision import datasets, models, transforms\n",
    "import matplotlib.pyplot as plt\n",
    "import numpy as np\n",
    "%matplotlib inline\n",
    "\n",
    "use_gpu = torch.cuda.is_available()"
   ]
  },
  {
   "cell_type": "code",
   "execution_count": 2,
   "metadata": {},
   "outputs": [],
   "source": [
    "# torchvision.transforms.Normalize(mean, std)\n",
    "# Given mean: (M1,...,Mn) and std: (S1,..,Sn) for n channels\n",
    "data_transform = transforms.Compose([\n",
    "    transforms.RandomHorizontalFlip(),\n",
    "    transforms.ToTensor(),\n",
    "    transforms.Normalize((0.5, 0.5, 0.5), (0.5, 0.5, 0.5)),\n",
    "    \n",
    "])"
   ]
  },
  {
   "cell_type": "code",
   "execution_count": 3,
   "metadata": {},
   "outputs": [],
   "source": [
    "Trainset = CIFAR10(root = \"./\", train=True, transform=data_transform,download=False)\n",
    "trainloader = torch.utils.data.DataLoader(Trainset, batch_size=4, \n",
    "                                          shuffle=True, num_workers=2)"
   ]
  },
  {
   "cell_type": "code",
   "execution_count": 4,
   "metadata": {},
   "outputs": [],
   "source": [
    "Testset = CIFAR10(root = \"./\", train=False, transform=data_transform,download=False)\n",
    "testloader = torch.utils.data.DataLoader(Testset, batch_size=4, \n",
    "                                          shuffle=True, num_workers=2)"
   ]
  },
  {
   "cell_type": "code",
   "execution_count": 5,
   "metadata": {},
   "outputs": [],
   "source": [
    "dataloader = {\"train\": trainloader, \"test\": testloader}\n",
    "dataset_sizes = get_size(Trainset, Testset)"
   ]
  },
  {
   "cell_type": "code",
   "execution_count": 6,
   "metadata": {},
   "outputs": [],
   "source": [
    "classes = ('plane', 'car', 'bird', 'cat',\n",
    "           'deer', 'dog', 'frog', 'horse', 'ship', 'truck')"
   ]
  },
  {
   "cell_type": "code",
   "execution_count": 7,
   "metadata": {},
   "outputs": [
    {
     "data": {
      "image/png": "[encoded data removed]",
      "text/plain": [
       "<matplotlib.figure.Figure at 0x7fda6ca04ef0>"
      ]
     },
     "metadata": {},
     "output_type": "display_data"
    }
   ],
   "source": [
    "def imshow(img, titles = None):\n",
    "    img = img.numpy().transpose((1, 2, 0))\n",
    "    img = img / 2 + 0.5 # unnormalize\n",
    "    plt.imshow(img)\n",
    "    if titles is not None:\n",
    "        plt.title(titles)\n",
    "    \n",
    "    \n",
    "images, labels = next(iter(trainloader))\n",
    "imshow(torchvision.utils.make_grid(images), titles = [classes[x] for x in labels])                    "
   ]
  },
  {
   "cell_type": "code",
   "execution_count": 8,
   "metadata": {},
   "outputs": [],
   "source": [
    "class model_cifar(nn.Module):\n",
    "    def __init__(self):\n",
    "        super().__init__()\n",
    "        # class torch.nn.Conv2d(in_channels, out_channels, kernel_size, \n",
    "        #     stride=1, padding=0, dilation=1, groups=1, bias=True)        \n",
    "        \n",
    "        self.conv1 = nn.Conv2d(3, 6, 5).cuda()\n",
    "        self.pool  = nn.MaxPool2d(2,2).cuda()\n",
    "        self.conv2 = nn.Conv2d(6, 16, 5).cuda()\n",
    "        self.fc1   = nn.Linear(16*5*5, 120).cuda()\n",
    "        self.fc2   = nn.Linear(120, 84).cuda()\n",
    "        self.fc3   = nn.Linear(84, 10).cuda()\n",
    "        self.relu  = nn.ReLU() # 实例化\n",
    "        \n",
    "    def forward(self, x):\n",
    "        x = self.relu(self.conv1(x))\n",
    "        x = self.pool(x)\n",
    "        \n",
    "        x = self.relu(self.conv2(x))\n",
    "        x = self.pool(x)\n",
    "        \n",
    "        x = x.view(-1, 16*5*5)\n",
    "        x = self.relu(self.fc1(x))\n",
    "        x = self.relu(self.fc2(x))\n",
    "        x = self.fc3(x)\n",
    "        return x\n",
    "\n",
    "model_cifar10 = model_cifar().cuda()"
   ]
  },
  {
   "cell_type": "code",
   "execution_count": 9,
   "metadata": {},
   "outputs": [],
   "source": [
    "class model_cifar10_fast(nn.Module):\n",
    "    def __init__(self):\n",
    "        super().__init__()\n",
    "        # class torch.nn.Conv2d(in_channels, out_channels, kernel_size, \n",
    "        #     stride=1, padding=0, dilation=1, groups=1, bias=True)        \n",
    "        # class torch.nn.MaxPool2d(kernel_size, stride=None, \n",
    "        #     padding=0, dilation=1, return_indices=False, ceil_mode=False)[s\n",
    "        \n",
    "        self.relu  = nn.ReLU().cuda() # 实例化\n",
    "        self.conv1 = nn.Conv2d(3, 32, kernel_size=5, padding=2).cuda()\n",
    "        self.Maxpool  = nn.MaxPool2d(kernel_size=3, stride=2).cuda()\n",
    "        self.conv2 = nn.Conv2d(32, 32, kernel_size=5, padding=2).cuda()\n",
    "        self.Avgpool = nn.AvgPool2d(kernel_size=3, stride=2).cuda()\n",
    "        self.conv3 = nn.Conv2d(32, 64, kernel_size=5, padding=2).cuda()\n",
    "        \n",
    "        self.fc  = nn.Linear(64*3*3, 10).cuda()\n",
    "        # 此处不是3*3，会导致batchsize mismatch ,数据还需多多考虑\n",
    "        \n",
    "        \n",
    "    def forward(self, x):\n",
    "        x = self.relu(self.conv1(x))\n",
    "        x = self.Maxpool(x)\n",
    "        \n",
    "        x = self.relu(self.conv2(x))\n",
    "        x = self.Avgpool(x)\n",
    "        \n",
    "        x = self.relu(self.conv3(x))\n",
    "        x = self.Avgpool(x)\n",
    "        \n",
    "        x = x.view(-1, 64*3*3)\n",
    "        x = self.fc(x)\n",
    "        return x\n",
    "\n",
    "model_cifar10_f = model_cifar10_fast().cuda()"
   ]
  },
  {
   "cell_type": "code",
   "execution_count": 10,
   "metadata": {},
   "outputs": [
    {
     "data": {
      "text/plain": [
       "'\\ncriterion = nn.CrossEntropyLoss()\\n\\noptimizer = optim.SGD(model_cifar10.parameters(), lr=0.001, momentum=0.9)\\n\\nexp_lr_scheduler = lr_scheduler.StepLR(optimizer, step_size=7, gamma=0.1)\\n\\nmodel_ft = train_model(model_cifar10, dataloader, criterion, optimizer, exp_lr_scheduler,\\n                       dataset_sizes, num_epochs=25)\\n'"
      ]
     },
     "execution_count": 10,
     "metadata": {},
     "output_type": "execute_result"
    }
   ],
   "source": [
    "\"\"\"\n",
    "criterion = nn.CrossEntropyLoss()\n",
    "\n",
    "optimizer = optim.SGD(model_cifar10.parameters(), lr=0.001, momentum=0.9)\n",
    "\n",
    "exp_lr_scheduler = lr_scheduler.StepLR(optimizer, step_size=7, gamma=0.1)\n",
    "\n",
    "model_ft = train_model(model_cifar10, dataloader, criterion, optimizer, exp_lr_scheduler,\n",
    "                       dataset_sizes, num_epochs=25)\n",
    "\"\"\""
   ]
  },
  {
   "cell_type": "code",
   "execution_count": 11,
   "metadata": {},
   "outputs": [
    {
     "name": "stdout",
     "output_type": "stream",
     "text": [
      "Epoch 0/14\n",
      "----------\n",
      "train Loss: 1.4668 Acc: 0.4698\n",
      "test Loss: 1.3289 Acc: 0.5337\n",
      "\n",
      "Epoch 1/14\n",
      "----------\n",
      "train Loss: 1.1464 Acc: 0.6005\n",
      "test Loss: 1.0500 Acc: 0.6310\n",
      "\n",
      "Epoch 2/14\n",
      "----------\n",
      "train Loss: 1.0238 Acc: 0.6467\n",
      "test Loss: 1.0033 Acc: 0.6545\n",
      "\n",
      "Epoch 3/14\n",
      "----------\n",
      "train Loss: 0.9470 Acc: 0.6717\n",
      "test Loss: 1.0198 Acc: 0.6565\n",
      "\n",
      "Epoch 4/14\n",
      "----------\n",
      "train Loss: 0.9034 Acc: 0.6886\n",
      "test Loss: 0.9245 Acc: 0.6873\n",
      "\n",
      "Epoch 5/14\n",
      "----------\n",
      "train Loss: 0.8655 Acc: 0.7010\n",
      "test Loss: 0.9319 Acc: 0.6833\n",
      "\n",
      "Epoch 6/14\n",
      "----------\n",
      "train Loss: 0.8413 Acc: 0.7118\n",
      "test Loss: 0.8930 Acc: 0.6968\n",
      "\n",
      "Epoch 7/14\n",
      "----------\n",
      "train Loss: 0.6845 Acc: 0.7624\n",
      "test Loss: 0.7677 Acc: 0.7430\n",
      "\n",
      "Epoch 8/14\n",
      "----------\n",
      "train Loss: 0.6540 Acc: 0.7736\n",
      "test Loss: 0.7626 Acc: 0.7430\n",
      "\n",
      "Epoch 9/14\n",
      "----------\n",
      "train Loss: 0.6360 Acc: 0.7777\n",
      "test Loss: 0.7524 Acc: 0.7514\n",
      "\n",
      "Epoch 10/14\n",
      "----------\n",
      "train Loss: 0.6228 Acc: 0.7840\n",
      "test Loss: 0.7431 Acc: 0.7513\n",
      "\n",
      "Epoch 11/14\n",
      "----------\n",
      "train Loss: 0.6116 Acc: 0.7862\n",
      "test Loss: 0.7333 Acc: 0.7542\n",
      "\n",
      "Epoch 12/14\n",
      "----------\n",
      "train Loss: 0.6031 Acc: 0.7904\n",
      "test Loss: 0.7291 Acc: 0.7565\n",
      "\n",
      "Epoch 13/14\n",
      "----------\n",
      "train Loss: 0.5921 Acc: 0.7937\n",
      "test Loss: 0.7299 Acc: 0.7557\n",
      "\n",
      "Epoch 14/14\n",
      "----------\n",
      "train Loss: 0.5701 Acc: 0.8022\n",
      "test Loss: 0.7238 Acc: 0.7579\n",
      "\n",
      "Training complete in 7m 45s\n",
      "Best val Acc: 0.757900\n"
     ]
    }
   ],
   "source": [
    "criterion = nn.CrossEntropyLoss()\n",
    "\n",
    "optimizer_Adam = optim.Adam(model_cifar10_f.parameters())\n",
    "exp_lr_scheduler = lr_scheduler.StepLR(optimizer_Adam, step_size=7, gamma=0.1)\n",
    "\n",
    "model_fast = train_model(model_cifar10_f, dataloader, criterion, optimizer_Adam, exp_lr_scheduler,\n",
    "                       dataset_sizes, num_epochs=15)"
   ]
  },
  {
   "cell_type": "code",
   "execution_count": 14,
   "metadata": {},
   "outputs": [
    {
     "name": "stdout",
     "output_type": "stream",
     "text": [
      "For test\n",
      "Accuracy of plane : 80 %\n",
      "Accuracy of   car : 87 %\n",
      "Accuracy of  bird : 65 %\n",
      "Accuracy of   cat : 58 %\n",
      "Accuracy of  deer : 74 %\n",
      "Accuracy of   dog : 65 %\n",
      "Accuracy of  frog : 81 %\n",
      "Accuracy of horse : 78 %\n",
      "Accuracy of  ship : 86 %\n",
      "Accuracy of truck : 84 %\n"
     ]
    }
   ],
   "source": [
    "print(\"For test\")\n",
    "classes_acc(model_cifar10_f, testloader, classes)"
   ]
  },
  {
   "cell_type": "code",
   "execution_count": 15,
   "metadata": {},
   "outputs": [
    {
     "name": "stdout",
     "output_type": "stream",
     "text": [
      "For train\n",
      "Accuracy of plane : 83 %\n",
      "Accuracy of   car : 90 %\n",
      "Accuracy of  bird : 71 %\n",
      "Accuracy of   cat : 64 %\n",
      "Accuracy of  deer : 79 %\n",
      "Accuracy of   dog : 67 %\n",
      "Accuracy of  frog : 84 %\n",
      "Accuracy of horse : 83 %\n",
      "Accuracy of  ship : 90 %\n",
      "Accuracy of truck : 87 %\n"
     ]
    }
   ],
   "source": [
    "print(\"For train\")\n",
    "classes_acc(model_cifar10_f, trainloader, classes)"
   ]
  },
  {
   "cell_type": "code",
   "execution_count": null,
   "metadata": {},
   "outputs": [],
   "source": []
  }
 ],
 "metadata": {
  "kernelspec": {
   "display_name": "Python 3",
   "language": "python",
   "name": "python3"
  },
  "language_info": {
   "codemirror_mode": {
    "name": "ipython",
    "version": 3
   },
   "file_extension": ".py",
   "mimetype": "text/x-python",
   "name": "python",
   "nbconvert_exporter": "python",
   "pygments_lexer": "ipython3",
   "version": "3.6.3"
  }
 },
 "nbformat": 4,
 "nbformat_minor": 2
}
