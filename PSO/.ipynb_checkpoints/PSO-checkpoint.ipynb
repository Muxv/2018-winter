{
 "cells": [
  {
   "cell_type": "code",
   "execution_count": 1,
   "metadata": {},
   "outputs": [
    {
     "data": {
      "text/plain": [
       "'\\n    目标非线性函数为\\n    f(x,y) = sin(sqrt(x^2+y^2))/(sqrt(x^2+y^2)) + exp((cos(2*PI*x)+cos(2*PI*y))/2) - 2.71289\\n    此函数有很多局部最大点，极限位置为(0,0)，在(0,0)附近取得最大值\\n    \\n    我们让质点在-2 ~ 2的范围内运动（x 和 y）\\n\\n'"
      ]
     },
     "execution_count": 1,
     "metadata": {},
     "output_type": "execute_result"
    }
   ],
   "source": [
    "import numpy as np\n",
    "\n",
    "\"\"\"\n",
    "    目标非线性函数为\n",
    "    f(x,y) = sin(sqrt(x^2+y^2))/(sqrt(x^2+y^2)) + exp((cos(2*PI*x)+cos(2*PI*y))/2) - 2.71289\n",
    "    此函数有很多局部最大点，极限位置为(0,0)，在(0,0)附近取得最大值\n",
    "    \n",
    "    我们让质点在-2 ~ 2的范围内运动（x 和 y）\n",
    "    借用的数据来自 https://www.cnblogs.com/lyrichu/p/6151272.html\n",
    "\"\"\"\n"
   ]
  },
  {
   "cell_type": "code",
   "execution_count": 9,
   "metadata": {},
   "outputs": [],
   "source": [
    "c1 = 2 # 加速度因子\n",
    "c2 = 2\n",
    "epochs = 100\n",
    "PI = 3.141593\n",
    "V_max = 2\n",
    "V_min = -2\n",
    "M = 20 # 粒子的数量"
   ]
  },
  {
   "cell_type": "code",
   "execution_count": 3,
   "metadata": {},
   "outputs": [],
   "source": [
    "def fitness(x, y):\n",
    "    s = np.sin(np.sqrt(x**2 + y**2))/(np.sqrt(x**2 + y**2)) + \\\n",
    "        np.exp((np.cos(2*PI*x) + np.cos(2*PI*y))/2) - 2.71289\n",
    "    return s"
   ]
  },
  {
   "cell_type": "code",
   "execution_count": 4,
   "metadata": {},
   "outputs": [],
   "source": [
    "class partial:\n",
    "    def __init__(self, seed, index = 1):\n",
    "        self.seed = seed\n",
    "        np.random.seed(self.seed)\n",
    "        self.index = index\n",
    "        self.position = np.random.randn(2)\n",
    "        self.v = np.random.randn(2) \n",
    "        self.fitness = fitness(self.position[0], self.position[1])\n",
    "        self.pbest = self.position # 记录的局部最佳的位置\n",
    "    \n",
    "    def update_position(self, gbest):\n",
    "        self.seed += 100\n",
    "        # np.random.random() 产生0-1之间的数字\n",
    "        self.v = self.v + c1 * np.random.random() * (self.pbest - self.position) + \\\n",
    "            c2 * np.random.random() * (gbest - self.position)\n",
    "        #速度修正\n",
    "        if self.v[0] > V_max:\n",
    "            self.v[0] = V_max\n",
    "        if self.v[0] < V_min:\n",
    "            self.v[0] = V_min    \n",
    "        if self.v[1] > V_max:\n",
    "            self.v[1] = V_max\n",
    "        if self.v[1] < V_min:\n",
    "            self.v[1] = V_min         \n",
    "        #位置修正    \n",
    "        self.position = self.position + self.v    \n",
    "        if self.position[0] > 2:\n",
    "            self.position[0] = 2\n",
    "        if self.position[1] > 2:\n",
    "            self.position[1] = 2        \n",
    "        if self.position[0] < -2:\n",
    "            self.position[0] = -2\n",
    "        if self.position[1] < -2:\n",
    "            self.position[1] = -2          \n",
    "        \n",
    "        fitness_old = fitness(self.pbest[0],self.pbest[1]) # 原来的\n",
    "        fitness_new = fitness(self.position[0],self.position[1])\n",
    "        if fitness_new >= fitness_old:\n",
    "            self.pbest = self.position\n",
    "            self.fitness = fitness_new\n",
    "                   "
   ]
  },
  {
   "cell_type": "code",
   "execution_count": 5,
   "metadata": {},
   "outputs": [],
   "source": [
    "PartialList = [] # 保存partial的list\n",
    "gbests = [] # 保存全局最佳\n",
    "fitness_max = [] #保存全局最佳的函数值"
   ]
  },
  {
   "cell_type": "code",
   "execution_count": 6,
   "metadata": {},
   "outputs": [],
   "source": [
    "# 初始化\n",
    "seed = 0\n",
    "for i in range(1,M+1):\n",
    "    p = partial(index = i, seed = seed)\n",
    "    PartialList.append(p)\n",
    "    seed += (2*epochs)\n",
    "gbests.append(PartialList[0].position)\n",
    "fitness_max.append(PartialList[0].fitness)"
   ]
  },
  {
   "cell_type": "code",
   "execution_count": 10,
   "metadata": {},
   "outputs": [
    {
     "name": "stderr",
     "output_type": "stream",
     "text": [
      "D:\\Ananconda3\\lib\\site-packages\\ipykernel_launcher.py:2: RuntimeWarning: invalid value encountered in double_scalars\n",
      "  \n"
     ]
    }
   ],
   "source": [
    "for epoch in range(epochs):\n",
    "    for p in PartialList:\n",
    "        if p.fitness > fitness_max[-1]:\n",
    "            fitness_max.append(p.fitness)\n",
    "            gbests.append(p.position)\n",
    "    for p in PartialList:\n",
    "        p.update_position(gbests[-1])"
   ]
  },
  {
   "cell_type": "code",
   "execution_count": 11,
   "metadata": {},
   "outputs": [
    {
     "name": "stdout",
     "output_type": "stream",
     "text": [
      "[array([ 1.76405235,  0.40015721]), array([ 0.04527856, -0.49926675]), array([ 1.02349237,  0.28314377]), array([ 0.10844633,  0.85869728]), array([ 0.94159215, -0.85442125]), array([ 0.94307764, -1.00217454]), array([ 1.0255335 , -1.00972832]), array([ 0.        , -0.92545077]), array([ 0.08240448, -0.01020654]), array([-0.0276046 , -0.00332125]), array([ 0.        , -0.00206539]), array([ 0.        , -0.00016856]), array([ 0.        , -0.00010778]), array([  0.00000000e+00,   1.47901983e-05]), array([  0.00000000e+00,  -7.65939260e-06]), array([  0.00000000e+00,  -6.73341252e-06]), array([  0.00000000e+00,  -4.32346782e-07]), array([  0.00000000e+00,   3.02511799e-07])]\n",
      "[-1.4784692163836057, -0.77414526497809666, -0.41178487716051837, 0.18846725040525003, 0.20211823457261158, 0.63355834599912475, 0.67429946844103128, 0.7261160638017774, 0.82919540167121886, 0.98465319931317286, 1.0052766757869596, 1.0053910614304642, 1.0053915148960324, 1.0053918225538814, 1.0053918268753463, 1.0053918272351217, 1.0053918284539995, 1.0053918284565748]\n"
     ]
    }
   ],
   "source": [
    "print(gbests)\n",
    "print(fitness_max)"
   ]
  },
  {
   "cell_type": "code",
   "execution_count": null,
   "metadata": {},
   "outputs": [],
   "source": [
    "\"\"\"\n",
    "最值点极为接近(0,0),表示实验基本达到效果\n",
    "\n",
    "\n",
    "\"\"\""
   ]
  },
  {
   "cell_type": "code",
   "execution_count": null,
   "metadata": {},
   "outputs": [],
   "source": []
  }
 ],
 "metadata": {
  "kernelspec": {
   "display_name": "Python 3",
   "language": "python",
   "name": "python3"
  },
  "language_info": {
   "codemirror_mode": {
    "name": "ipython",
    "version": 3
   },
   "file_extension": ".py",
   "mimetype": "text/x-python",
   "name": "python",
   "nbconvert_exporter": "python",
   "pygments_lexer": "ipython3",
   "version": "3.6.1"
  }
 },
 "nbformat": 4,
 "nbformat_minor": 2
}
