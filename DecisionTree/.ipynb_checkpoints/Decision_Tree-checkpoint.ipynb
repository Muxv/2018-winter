{
 "cells": [
  {
   "cell_type": "code",
   "execution_count": 1,
   "metadata": {},
   "outputs": [],
   "source": [
    "import math\n",
    "import numpy as np\n",
    "import pandas as pd\n",
    "import operator\n"
   ]
  },
  {
   "cell_type": "code",
   "execution_count": 2,
   "metadata": {},
   "outputs": [],
   "source": [
    "def testData():\n",
    "    dataset = {\n",
    "            \"F1\": [1,1,1,0,0],\n",
    "            \"F2\":[1,1,0,0,1],\n",
    "            \"Y\":[\"yes\",\"yes\",\"no\",\"no\",\"no\"]\n",
    "            }\n",
    "\n",
    "    dataset = pd.DataFrame(dataset)\n",
    "    return dataset"
   ]
  },
  {
   "cell_type": "code",
   "execution_count": 3,
   "metadata": {},
   "outputs": [
    {
     "data": {
      "text/html": [
       "<div>\n",
       "<style scoped>\n",
       "    .dataframe tbody tr th:only-of-type {\n",
       "        vertical-align: middle;\n",
       "    }\n",
       "\n",
       "    .dataframe tbody tr th {\n",
       "        vertical-align: top;\n",
       "    }\n",
       "\n",
       "    .dataframe thead th {\n",
       "        text-align: right;\n",
       "    }\n",
       "</style>\n",
       "<table border=\"1\" class=\"dataframe\">\n",
       "  <thead>\n",
       "    <tr style=\"text-align: right;\">\n",
       "      <th></th>\n",
       "      <th>F1</th>\n",
       "      <th>F2</th>\n",
       "      <th>Y</th>\n",
       "    </tr>\n",
       "  </thead>\n",
       "  <tbody>\n",
       "    <tr>\n",
       "      <th>0</th>\n",
       "      <td>1</td>\n",
       "      <td>1</td>\n",
       "      <td>yes</td>\n",
       "    </tr>\n",
       "    <tr>\n",
       "      <th>1</th>\n",
       "      <td>1</td>\n",
       "      <td>1</td>\n",
       "      <td>yes</td>\n",
       "    </tr>\n",
       "    <tr>\n",
       "      <th>2</th>\n",
       "      <td>1</td>\n",
       "      <td>0</td>\n",
       "      <td>no</td>\n",
       "    </tr>\n",
       "    <tr>\n",
       "      <th>3</th>\n",
       "      <td>0</td>\n",
       "      <td>0</td>\n",
       "      <td>no</td>\n",
       "    </tr>\n",
       "    <tr>\n",
       "      <th>4</th>\n",
       "      <td>0</td>\n",
       "      <td>1</td>\n",
       "      <td>no</td>\n",
       "    </tr>\n",
       "  </tbody>\n",
       "</table>\n",
       "</div>"
      ],
      "text/plain": [
       "   F1  F2    Y\n",
       "0   1   1  yes\n",
       "1   1   1  yes\n",
       "2   1   0   no\n",
       "3   0   0   no\n",
       "4   0   1   no"
      ]
     },
     "execution_count": 3,
     "metadata": {},
     "output_type": "execute_result"
    }
   ],
   "source": [
    "dataset = testData()\n",
    "dataset"
   ]
  },
  {
   "cell_type": "code",
   "execution_count": 4,
   "metadata": {},
   "outputs": [],
   "source": [
    "def calculate_Ent(dataset):\n",
    "    \"\"\"\n",
    "    求当前数据集Y的信息熵\n",
    "    永远求的是Y|(条件)的熵\n",
    "    \"\"\"\n",
    "    totalNum = len(dataset)\n",
    "    labelCounts = {}\n",
    "    for line in dataset:\n",
    "        # 记录不同的类型（Y的种类）\n",
    "        currentLabel = line[-1]\n",
    "        if currentLabel not in labelCounts.keys():\n",
    "            labelCounts[currentLabel] = 0\n",
    "            \n",
    "        labelCounts[currentLabel] += 1\n",
    "        entropy = 0.0\n",
    "        for key in labelCounts:\n",
    "            prob = float(labelCounts[key])/totalNum\n",
    "            entropy -= prob * math.log(prob,2)\n",
    "    \n",
    "    return entropy"
   ]
  },
  {
   "cell_type": "code",
   "execution_count": 5,
   "metadata": {},
   "outputs": [],
   "source": [
    "def splitdata(dataset, index, value):\n",
    "    \"\"\"\n",
    "    求含有当前特征(index(str))取值(value)的数据集子集\n",
    "    为Y|X_index == value的分布情况\n",
    "    输入的dataset为pd.DataFrame类型\n",
    "\n",
    "    \"\"\"\n",
    "    totalNum = len(dataset)\n",
    "    line_label = []\n",
    "    # dataset.drop(data)\n",
    "    for i in range(totalNum):\n",
    "        if dataset.iloc[i,:][index] == value:\n",
    "            line_label.append(i)\n",
    "    \n",
    "    splitdataset = dataset.drop(index = line_label)\n",
    "    splitdataset = splitdataset.drop(columns = index)\n",
    "    \n",
    "    return splitdataset"
   ]
  },
  {
   "cell_type": "code",
   "execution_count": 6,
   "metadata": {},
   "outputs": [
    {
     "data": {
      "text/html": [
       "<div>\n",
       "<style scoped>\n",
       "    .dataframe tbody tr th:only-of-type {\n",
       "        vertical-align: middle;\n",
       "    }\n",
       "\n",
       "    .dataframe tbody tr th {\n",
       "        vertical-align: top;\n",
       "    }\n",
       "\n",
       "    .dataframe thead th {\n",
       "        text-align: right;\n",
       "    }\n",
       "</style>\n",
       "<table border=\"1\" class=\"dataframe\">\n",
       "  <thead>\n",
       "    <tr style=\"text-align: right;\">\n",
       "      <th></th>\n",
       "      <th>F2</th>\n",
       "      <th>Y</th>\n",
       "    </tr>\n",
       "  </thead>\n",
       "  <tbody>\n",
       "    <tr>\n",
       "      <th>3</th>\n",
       "      <td>0</td>\n",
       "      <td>no</td>\n",
       "    </tr>\n",
       "    <tr>\n",
       "      <th>4</th>\n",
       "      <td>1</td>\n",
       "      <td>no</td>\n",
       "    </tr>\n",
       "  </tbody>\n",
       "</table>\n",
       "</div>"
      ],
      "text/plain": [
       "   F2   Y\n",
       "3   0  no\n",
       "4   1  no"
      ]
     },
     "execution_count": 6,
     "metadata": {},
     "output_type": "execute_result"
    }
   ],
   "source": [
    "splitdata(dataset,\"F1\",1)"
   ]
  },
  {
   "cell_type": "code",
   "execution_count": 7,
   "metadata": {},
   "outputs": [],
   "source": [
    "def choosebestfeature(dataset):\n",
    "    numOfFeature = len(dataset.columns)-1\n",
    "    baseEnt = calculate_Ent(dataset)\n",
    "    maxInformationGain = 0.0\n",
    "    bestFeatureIndex = -1\n",
    "    \n",
    "    for i in range(numOfFeature):\n",
    "        index = dataset.columns[i] # index记录的是特征名称(str)\n",
    "        featurelist = [] # 记录当前feature的所有取值\n",
    "        for j in range(len(dataset.index)):\n",
    "            line = dataset.iloc[j,:].values\n",
    "            if line[i] not in featurelist:\n",
    "                featurelist.append(line[i])\n",
    "        \n",
    "            newEnt = 0.0\n",
    "            \n",
    "        for feature in featurelist:\n",
    "            # Σ(P(X_index == feature) * H(Y|X_index == feature))\n",
    "            # P(X_index == feature) : prob\n",
    "            # H(Y|X_index == feature)): calculateEntropy(splitdataset)\n",
    "            \n",
    "            splitdataset = splitdata(dataset, index, feature)    \n",
    "            prob = len(splitdataset)/len(dataset)\n",
    "            newEnt += calculate_Ent(splitdataset) * prob\n",
    "        \n",
    "        informationGain = baseEnt-newEnt\n",
    "        if informationGain > maxInformationGain:\n",
    "            maxInformationGain = informationGain\n",
    "            bestFeatureIndex=index\n",
    "    \n",
    "    return bestFeatureIndex"
   ]
  },
  {
   "cell_type": "code",
   "execution_count": 8,
   "metadata": {},
   "outputs": [
    {
     "data": {
      "text/plain": [
       "'F1'"
      ]
     },
     "execution_count": 8,
     "metadata": {},
     "output_type": "execute_result"
    }
   ],
   "source": [
    "choosebestfeature(dataset)"
   ]
  },
  {
   "cell_type": "code",
   "execution_count": 11,
   "metadata": {},
   "outputs": [],
   "source": [
    "def voteresult(classlist):\n",
    "    classcount = {}\n",
    "    for value in classlist:\n",
    "        if value not in classcount:\n",
    "            classCounts[value] = 0\n",
    "        classCounts[value] += 1\n",
    "        \n",
    "    sortClassCounts=sorted(classCounts.iteritems(),\n",
    "                           key=operator.itemgetter(1),\n",
    "                           reverse=True)\n",
    "    return sortClassCounts[0][0]        \n",
    "        "
   ]
  },
  {
   "cell_type": "code",
   "execution_count": 27,
   "metadata": {},
   "outputs": [],
   "source": [
    "def CreateDecisionTree(dataset):\n",
    "    classlist = [i for i in dataset[\"Y\"]]\n",
    "    # 如果D中样本全属于同一类别(只有一个Y)\n",
    "    if len(set(classlist)) ==  1: # set(***)会去除重复的量，\n",
    "        return classlist[0]\n",
    "    # 如果,所有属性都用过了，即只剩有Y\n",
    "    if len(dataset.loc[0,:].values) == 1:\n",
    "        return voteresult(classlist)\n",
    "    # 选取最优划分特征\n",
    "    bestFeatureIndex=choosebestfeature(dataset)\n",
    "    # 设立特征树\n",
    "    DecisionTree={bestFeatureIndex:{}}\n",
    "    \n",
    "    Featurelist = []\n",
    "    #求当前特征下，所有可能值的集合\n",
    "    for i in range(len(dataset)):\n",
    "        Featurelist.append(dataset.iloc[i,:][bestFeatureIndex])\n",
    "    uniqueFeatureList = set(Featurelist)\n",
    "    \n",
    "    for value in uniqueFeatureList:\n",
    "        splitdataset=splitdata(dataset,bestFeatureIndex,value)\n",
    "        DecisionTree[bestFeatureIndex][value] = CreateDecisionTree(splitdataset)\n",
    "    \n",
    "    return DecisionTree"
   ]
  },
  {
   "cell_type": "code",
   "execution_count": 28,
   "metadata": {},
   "outputs": [
    {
     "data": {
      "text/plain": [
       "{'F1': {0: {'F2': {0: 'yes', 1: 'no'}}, 1: 'no'}}"
      ]
     },
     "execution_count": 28,
     "metadata": {},
     "output_type": "execute_result"
    }
   ],
   "source": [
    "CreateDecisionTree(dataset)"
   ]
  },
  {
   "cell_type": "code",
   "execution_count": 18,
   "metadata": {},
   "outputs": [
    {
     "data": {
      "text/plain": [
       "1"
      ]
     },
     "execution_count": 18,
     "metadata": {},
     "output_type": "execute_result"
    }
   ],
   "source": [
    "dataset.iloc[1,:][\"F2\"]"
   ]
  },
  {
   "cell_type": "code",
   "execution_count": null,
   "metadata": {},
   "outputs": [],
   "source": []
  }
 ],
 "metadata": {
  "kernelspec": {
   "display_name": "Python 3",
   "language": "python",
   "name": "python3"
  },
  "language_info": {
   "codemirror_mode": {
    "name": "ipython",
    "version": 3
   },
   "file_extension": ".py",
   "mimetype": "text/x-python",
   "name": "python",
   "nbconvert_exporter": "python",
   "pygments_lexer": "ipython3",
   "version": "3.6.1"
  }
 },
 "nbformat": 4,
 "nbformat_minor": 2
}
