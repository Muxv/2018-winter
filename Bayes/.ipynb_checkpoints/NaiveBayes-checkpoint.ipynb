{
 "cells": [
  {
   "cell_type": "code",
   "execution_count": 1,
   "metadata": {},
   "outputs": [],
   "source": [
    "import pandas as pd\n",
    "import numpy as np"
   ]
  },
  {
   "cell_type": "code",
   "execution_count": 2,
   "metadata": {
    "scrolled": true
   },
   "outputs": [],
   "source": [
    "train = pd.read_csv(\"weather.csv\")"
   ]
  },
  {
   "cell_type": "code",
   "execution_count": 3,
   "metadata": {},
   "outputs": [
    {
     "data": {
      "text/plain": [
       "(14, 5)"
      ]
     },
     "execution_count": 3,
     "metadata": {},
     "output_type": "execute_result"
    }
   ],
   "source": [
    "train.shape"
   ]
  },
  {
   "cell_type": "code",
   "execution_count": 4,
   "metadata": {},
   "outputs": [],
   "source": [
    "numOfExample = train.shape[0]\n",
    "numOfFeature = train.shape[1]-1"
   ]
  },
  {
   "cell_type": "code",
   "execution_count": 5,
   "metadata": {},
   "outputs": [
    {
     "data": {
      "text/html": [
       "<div>\n",
       "<style scoped>\n",
       "    .dataframe tbody tr th:only-of-type {\n",
       "        vertical-align: middle;\n",
       "    }\n",
       "\n",
       "    .dataframe tbody tr th {\n",
       "        vertical-align: top;\n",
       "    }\n",
       "\n",
       "    .dataframe thead th {\n",
       "        text-align: right;\n",
       "    }\n",
       "</style>\n",
       "<table border=\"1\" class=\"dataframe\">\n",
       "  <thead>\n",
       "    <tr style=\"text-align: right;\">\n",
       "      <th></th>\n",
       "      <th>天气</th>\n",
       "      <th>气温</th>\n",
       "      <th>湿度</th>\n",
       "      <th>风</th>\n",
       "      <th>外出</th>\n",
       "    </tr>\n",
       "  </thead>\n",
       "  <tbody>\n",
       "    <tr>\n",
       "      <th>0</th>\n",
       "      <td>晴朗</td>\n",
       "      <td>高温</td>\n",
       "      <td>高</td>\n",
       "      <td>无风</td>\n",
       "      <td>no</td>\n",
       "    </tr>\n",
       "    <tr>\n",
       "      <th>1</th>\n",
       "      <td>晴朗</td>\n",
       "      <td>高温</td>\n",
       "      <td>高</td>\n",
       "      <td>有风</td>\n",
       "      <td>no</td>\n",
       "    </tr>\n",
       "    <tr>\n",
       "      <th>2</th>\n",
       "      <td>多云</td>\n",
       "      <td>高温</td>\n",
       "      <td>高</td>\n",
       "      <td>无风</td>\n",
       "      <td>yes</td>\n",
       "    </tr>\n",
       "    <tr>\n",
       "      <th>3</th>\n",
       "      <td>下雨</td>\n",
       "      <td>温暖</td>\n",
       "      <td>高</td>\n",
       "      <td>无风</td>\n",
       "      <td>yes</td>\n",
       "    </tr>\n",
       "    <tr>\n",
       "      <th>4</th>\n",
       "      <td>下雨</td>\n",
       "      <td>寒冷</td>\n",
       "      <td>正常</td>\n",
       "      <td>无风</td>\n",
       "      <td>yes</td>\n",
       "    </tr>\n",
       "    <tr>\n",
       "      <th>5</th>\n",
       "      <td>下雨</td>\n",
       "      <td>寒冷</td>\n",
       "      <td>正常</td>\n",
       "      <td>有风</td>\n",
       "      <td>no</td>\n",
       "    </tr>\n",
       "    <tr>\n",
       "      <th>6</th>\n",
       "      <td>多云</td>\n",
       "      <td>寒冷</td>\n",
       "      <td>正常</td>\n",
       "      <td>有风</td>\n",
       "      <td>yes</td>\n",
       "    </tr>\n",
       "    <tr>\n",
       "      <th>7</th>\n",
       "      <td>晴朗</td>\n",
       "      <td>温暖</td>\n",
       "      <td>高</td>\n",
       "      <td>无风</td>\n",
       "      <td>no</td>\n",
       "    </tr>\n",
       "    <tr>\n",
       "      <th>8</th>\n",
       "      <td>晴朗</td>\n",
       "      <td>寒冷</td>\n",
       "      <td>正常</td>\n",
       "      <td>无风</td>\n",
       "      <td>yes</td>\n",
       "    </tr>\n",
       "    <tr>\n",
       "      <th>9</th>\n",
       "      <td>下雨</td>\n",
       "      <td>温暖</td>\n",
       "      <td>正常</td>\n",
       "      <td>无风</td>\n",
       "      <td>yes</td>\n",
       "    </tr>\n",
       "    <tr>\n",
       "      <th>10</th>\n",
       "      <td>晴朗</td>\n",
       "      <td>温暖</td>\n",
       "      <td>正常</td>\n",
       "      <td>有风</td>\n",
       "      <td>yes</td>\n",
       "    </tr>\n",
       "    <tr>\n",
       "      <th>11</th>\n",
       "      <td>多云</td>\n",
       "      <td>温暖</td>\n",
       "      <td>高</td>\n",
       "      <td>有风</td>\n",
       "      <td>yes</td>\n",
       "    </tr>\n",
       "    <tr>\n",
       "      <th>12</th>\n",
       "      <td>多云</td>\n",
       "      <td>高温</td>\n",
       "      <td>正常</td>\n",
       "      <td>无风</td>\n",
       "      <td>yes</td>\n",
       "    </tr>\n",
       "    <tr>\n",
       "      <th>13</th>\n",
       "      <td>下雨</td>\n",
       "      <td>温暖</td>\n",
       "      <td>高</td>\n",
       "      <td>有风</td>\n",
       "      <td>no</td>\n",
       "    </tr>\n",
       "  </tbody>\n",
       "</table>\n",
       "</div>"
      ],
      "text/plain": [
       "    天气  气温  湿度   风   外出\n",
       "0   晴朗  高温   高  无风   no\n",
       "1   晴朗  高温   高  有风   no\n",
       "2   多云  高温   高  无风  yes\n",
       "3   下雨  温暖   高  无风  yes\n",
       "4   下雨  寒冷  正常  无风  yes\n",
       "5   下雨  寒冷  正常  有风   no\n",
       "6   多云  寒冷  正常  有风  yes\n",
       "7   晴朗  温暖   高  无风   no\n",
       "8   晴朗  寒冷  正常  无风  yes\n",
       "9   下雨  温暖  正常  无风  yes\n",
       "10  晴朗  温暖  正常  有风  yes\n",
       "11  多云  温暖   高  有风  yes\n",
       "12  多云  高温  正常  无风  yes\n",
       "13  下雨  温暖   高  有风   no"
      ]
     },
     "execution_count": 5,
     "metadata": {},
     "output_type": "execute_result"
    }
   ],
   "source": [
    "train"
   ]
  },
  {
   "cell_type": "code",
   "execution_count": 6,
   "metadata": {},
   "outputs": [
    {
     "data": {
      "text/plain": [
       "array(['天气', '气温', '湿度', '风'], dtype=object)"
      ]
     },
     "execution_count": 6,
     "metadata": {},
     "output_type": "execute_result"
    }
   ],
   "source": [
    "train.columns.values[:-1]"
   ]
  },
  {
   "cell_type": "markdown",
   "metadata": {},
   "source": [
    "# P(yes|E) = P(E|yes)*P(yes)/P(E)\n",
    "# P(no|E) = P(E|no)*P(no)/P(E)"
   ]
  },
  {
   "cell_type": "code",
   "execution_count": 7,
   "metadata": {},
   "outputs": [],
   "source": [
    "\"\"\"先求P(yes)和P(no)\"\"\"\n",
    "numOfYes = 0\n",
    "numOfNo = 0\n",
    "yes_no_set =np.array(train[\"外出\"].values)\n",
    "for i in range(len(yes_no_set)):\n",
    "    if yes_no_set[i] == \"yes\":\n",
    "        numOfYes += 1\n",
    "    if yes_no_set[i] == \"no\":\n",
    "        numOfNo += 1\n",
    "        \n",
    "P_yes = numOfYes/(numOfYes + numOfNo)\n",
    "P_no = numOfNo/(numOfYes + numOfNo)"
   ]
  },
  {
   "cell_type": "code",
   "execution_count": 8,
   "metadata": {},
   "outputs": [
    {
     "name": "stdout",
     "output_type": "stream",
     "text": [
      "0.6428571428571429\n",
      "0.35714285714285715\n"
     ]
    }
   ],
   "source": [
    "print(P_yes)\n",
    "print(P_no)"
   ]
  },
  {
   "cell_type": "code",
   "execution_count": 9,
   "metadata": {},
   "outputs": [],
   "source": [
    "\"\"\"\n",
    "    然后求P(E)\n",
    "    P(E) = P(E1)*P(E2)*P(E3)......\n",
    "\"\"\"\n",
    "P_E = {}\n",
    "for i in range(numOfFeature):\n",
    "    labels = train.columns.values[:-1]\n",
    "    label = labels[i]\n",
    "    P_E[label] = {}\n",
    "    for j in range(len(train[label])):\n",
    "        #添加所有的特征值\n",
    "        if train[label].values[j] not in P_E[label]:\n",
    "            fea_name = train[label].values[j]\n",
    "            P_E[label][fea_name] = 1\n",
    "        else:\n",
    "            fea_name = train[label].values[j]\n",
    "            P_E[label][fea_name] += 1\n",
    "    for key,value in P_E[label].items():\n",
    "        # 要能够key和value同时解包，需要取其items\n",
    "        P_E[label][key] /= numOfExample"
   ]
  },
  {
   "cell_type": "code",
   "execution_count": 10,
   "metadata": {},
   "outputs": [
    {
     "data": {
      "text/plain": [
       "{'天气': {'下雨': 0.35714285714285715,\n",
       "  '多云': 0.2857142857142857,\n",
       "  '晴朗': 0.35714285714285715},\n",
       " '气温': {'寒冷': 0.2857142857142857,\n",
       "  '温暖': 0.42857142857142855,\n",
       "  '高温': 0.2857142857142857},\n",
       " '湿度': {'正常': 0.5, '高': 0.5},\n",
       " '风': {'无风': 0.5714285714285714, '有风': 0.42857142857142855}}"
      ]
     },
     "execution_count": 10,
     "metadata": {},
     "output_type": "execute_result"
    }
   ],
   "source": [
    "P_E"
   ]
  },
  {
   "cell_type": "code",
   "execution_count": 11,
   "metadata": {},
   "outputs": [],
   "source": [
    "\"\"\"\n",
    "    最后求P(E|yes)和P(E|no)\n",
    "    P(E|yes) = P(E1|yes)*P(E2|yes)*P(E3|yes)......\n",
    "\n",
    "\"\"\"\n",
    "P_E_yes = {}\n",
    "P_E_no = {}\n",
    "for i in range(numOfFeature):\n",
    "    labels = train.columns.values[:-1]\n",
    "    label = labels[i]\n",
    "    P_E_yes[label + \"_yes\"] = {}\n",
    "    P_E_no[label + \"_no\"] = {}\n",
    "    E_yes_no_set = train.iloc[:,[i,-1]]\n",
    "    for j in range(numOfExample):\n",
    "        if E_yes_no_set.values[j][-1] == 'yes':\n",
    "            fea_name = E_yes_no_set.values[j][0]\n",
    "            if fea_name not in P_E_yes[label + \"_yes\"]:\n",
    "                P_E_yes[label + \"_yes\"][fea_name] = 1\n",
    "            else:\n",
    "                P_E_yes[label + \"_yes\"][fea_name] += 1\n",
    "                \n",
    "        elif E_yes_no_set.values[j][-1] == 'no':\n",
    "            fea_name = E_yes_no_set.values[j][0]\n",
    "            if fea_name not in  P_E_no[label + \"_no\"]:\n",
    "                P_E_no[label + \"_no\"][fea_name] = 1\n",
    "            else:\n",
    "                P_E_no[label + \"_no\"][fea_name] += 1\n",
    "                \n",
    "    value_sum = 0\n",
    "    for key,value in P_E_yes[label + \"_yes\"].items():\n",
    "        value_sum += value\n",
    "    for key,value in P_E_yes[label + \"_yes\"].items():\n",
    "        P_E_yes[label + \"_yes\"][key] /= value_sum \n",
    "\n",
    "    value_sum = 0\n",
    "    for key,value in P_E_no[label + \"_no\"].items():\n",
    "        value_sum += value\n",
    "    for key,value in P_E_no[label + \"_no\"].items():\n",
    "        P_E_no[label + \"_no\"][key] /= value_sum "
   ]
  },
  {
   "cell_type": "code",
   "execution_count": 12,
   "metadata": {},
   "outputs": [
    {
     "data": {
      "text/plain": [
       "{'天气_yes': {'下雨': 0.3333333333333333,\n",
       "  '多云': 0.4444444444444444,\n",
       "  '晴朗': 0.2222222222222222},\n",
       " '气温_yes': {'寒冷': 0.3333333333333333,\n",
       "  '温暖': 0.4444444444444444,\n",
       "  '高温': 0.2222222222222222},\n",
       " '湿度_yes': {'正常': 0.6666666666666666, '高': 0.3333333333333333},\n",
       " '风_yes': {'无风': 0.6666666666666666, '有风': 0.3333333333333333}}"
      ]
     },
     "execution_count": 12,
     "metadata": {},
     "output_type": "execute_result"
    }
   ],
   "source": [
    "P_E_yes"
   ]
  },
  {
   "cell_type": "code",
   "execution_count": 13,
   "metadata": {},
   "outputs": [
    {
     "data": {
      "text/plain": [
       "{'天气_no': {'下雨': 0.4, '晴朗': 0.6},\n",
       " '气温_no': {'寒冷': 0.2, '温暖': 0.4, '高温': 0.4},\n",
       " '湿度_no': {'正常': 0.2, '高': 0.8},\n",
       " '风_no': {'无风': 0.4, '有风': 0.6}}"
      ]
     },
     "execution_count": 13,
     "metadata": {},
     "output_type": "execute_result"
    }
   ],
   "source": [
    "P_E_no"
   ]
  },
  {
   "cell_type": "code",
   "execution_count": 14,
   "metadata": {},
   "outputs": [],
   "source": [
    "def split_feature(example):\n",
    "    \"\"\"输入类型为list[天气，气温，湿度，风]\"\"\"\n",
    "    if(type(example) == list):\n",
    "        pieces = []\n",
    "        for i in range(numOfFeature):\n",
    "            pieces.append(str(example[i]))\n",
    "        return pieces\n",
    "    else:\n",
    "        print(\"please enter data whose type is list\")"
   ]
  },
  {
   "cell_type": "code",
   "execution_count": 15,
   "metadata": {},
   "outputs": [],
   "source": [
    "\"\"\"\n",
    "    P(yes|E) = P(E|yes)*P(yes)/P(E) =  ∏P(Ei|yes) * P(yes) / ∏P(Ei)\n",
    "    P(no|E) = P(E|no)*P(no)/P(E) =  =  ∏P(Ei|no) * P(no) / ∏P(Ei)\n",
    "\"\"\"\n",
    "\n",
    "def predict(example):\n",
    "    pieces = split_feature(example)\n",
    "    pro_bayes_yes = P_yes\n",
    "    pro_bayes_no = P_no\n",
    "\n",
    "    labels = train.columns.values[:-1]\n",
    "    for i in range(numOfFeature):\n",
    "        label = labels[i]\n",
    "        # 对于每一个feature\n",
    "        pro_bayes_yes *= P_E_yes[label +\"_yes\"][pieces[i]]\n",
    "        pro_bayes_yes /= P_E[label][pieces[i]]\n",
    "        \n",
    "        pro_bayes_no *= P_E_no[label +\"_no\"][pieces[i]]\n",
    "        pro_bayes_no /= P_E[label][pieces[i]]\n",
    "        \n",
    "    print(\"The probability of yes is \" + str(pro_bayes_yes))\n",
    "    print(\"The probability of no is \" + str(pro_bayes_no))\n",
    "    \n",
    "    \n",
    "    if pro_bayes_yes > pro_bayes_no:\n",
    "        print(\"The result is yes\")\n",
    "    else:\n",
    "        print(\"The result is no\")\n",
    "        "
   ]
  },
  {
   "cell_type": "code",
   "execution_count": 16,
   "metadata": {},
   "outputs": [
    {
     "name": "stdout",
     "output_type": "stream",
     "text": [
      "The probability of yes is 0.24197530864197522\n",
      "The probability of no is 0.9408000000000001\n",
      "The result is no\n"
     ]
    }
   ],
   "source": [
    "predict(['晴朗', '寒冷', '高', '有风'])"
   ]
  },
  {
   "cell_type": "code",
   "execution_count": null,
   "metadata": {},
   "outputs": [],
   "source": []
  }
 ],
 "metadata": {
  "kernelspec": {
   "display_name": "Python 3",
   "language": "python",
   "name": "python3"
  },
  "language_info": {
   "codemirror_mode": {
    "name": "ipython",
    "version": 3
   },
   "file_extension": ".py",
   "mimetype": "text/x-python",
   "name": "python",
   "nbconvert_exporter": "python",
   "pygments_lexer": "ipython3",
   "version": "3.6.1"
  }
 },
 "nbformat": 4,
 "nbformat_minor": 2
}
