{
 "cells": [
  {
   "cell_type": "code",
   "execution_count": 1,
   "metadata": {},
   "outputs": [],
   "source": [
    "import numpy as np"
   ]
  },
  {
   "cell_type": "code",
   "execution_count": 2,
   "metadata": {},
   "outputs": [
    {
     "data": {
      "text/plain": [
       "'\\n目标为寻找使f(x,y) = x^2 + y^2(x∈{1,2,3,4,5,6,7},y∈{1,2,3,4,5,6,7})\\n取得最大值的x,y\\n\\n产生编码(x,y)一对x,y可以变为一个长为y的list，每个数字为0 or 1\\n'"
      ]
     },
     "execution_count": 2,
     "metadata": {},
     "output_type": "execute_result"
    }
   ],
   "source": [
    "\"\"\"\n",
    "目标为寻找使f(x,y) = x^2 + y^2(x∈{1,2,3,4,5,6,7},y∈{1,2,3,4,5,6,7})\n",
    "取得最大值的x,y\n",
    "\n",
    "产生编码(x,y)一对x,y可以变为一个长为y的list，每个数字为0 or 1\n",
    "\"\"\"\n"
   ]
  },
  {
   "cell_type": "code",
   "execution_count": 3,
   "metadata": {},
   "outputs": [],
   "source": [
    "def train(M = 5):\n",
    "\n",
    "    X = []\n",
    "    for i in range(M):\n",
    "        x1 = np.random.randint(1,8)\n",
    "        x2 = np.random.randint(1,8)\n",
    "        X.append((x1, x2))\n",
    "\n",
    "    for i in range(M):\n",
    "        X[i] = encoding(X[i][0], X[i][1])\n",
    "    return X"
   ]
  },
  {
   "cell_type": "code",
   "execution_count": 4,
   "metadata": {},
   "outputs": [],
   "source": [
    "def encoding(num1, num2):\n",
    "    code1 = list(bin(num1)[2:])\n",
    "    code2 = list(bin(num2)[2:])\n",
    "    # 补足位数\n",
    "    while(len(code1)) < 3:\n",
    "        code1 = ['0'] + code1\n",
    "    while(len(code2)) < 3:\n",
    "        code2 = ['0'] + code2       \n",
    "        \n",
    "    for i in range(len(code1)):\n",
    "        code1[i] = eval(code1[i])\n",
    "\n",
    "    for i in range(len(code2)):\n",
    "        code2[i] = eval(code2[i])\n",
    "        \n",
    "    code = code1 + code2\n",
    "    return code"
   ]
  },
  {
   "cell_type": "code",
   "execution_count": 5,
   "metadata": {},
   "outputs": [],
   "source": [
    "def decoding(code):\n",
    "    halflen = len(code)//2\n",
    "    code1 = code[:halflen]\n",
    "    code2 = code[halflen:]\n",
    "    str1 = str2 = \"\"\n",
    "    \n",
    "    for i in range(halflen):\n",
    "        str1 += str(code1[i])\n",
    "        str2 += str(code2[i])\n",
    "    num1 = int(str1, 2) # 后一个参数说明数字原来为什么进制\n",
    "    num2 = int(str2, 2)\n",
    "    return num1, num2"
   ]
  },
  {
   "cell_type": "code",
   "execution_count": 6,
   "metadata": {},
   "outputs": [],
   "source": [
    "def fitness(num1, num2):\n",
    "    return (num1**2 + num2**2)"
   ]
  },
  {
   "cell_type": "code",
   "execution_count": 7,
   "metadata": {},
   "outputs": [],
   "source": [
    "def RMS(example_list, copy_times = 5):\n",
    "\n",
    "    # times 为转轮盘的次数\n",
    "    # 输入的为已编码的列表\n",
    "    M = len(example_list)\n",
    "    fitness_list = []\n",
    "    # list中每一个元素应该为[1,0,1,0,1,1]这种类型\n",
    "    for example in example_list:\n",
    "        num1, num2 = decoding(example)\n",
    "        fitness_per = fitness(num1, num2)\n",
    "        fitness_list.append(fitness_per)\n",
    "    #计算概率\n",
    "    \n",
    "    fitness_list = [s/sum(fitness_list) for s in fitness_list]\n",
    "    \n",
    "    copy_list = []\n",
    "    \n",
    "    for i in range(copy_times):\n",
    "        pro_tmp = 0 # 产生的pro在pro_tmp 和pro_sum + fitness_list[j]之间算作抽到了j\n",
    "        pro = np.random.random()\n",
    "\n",
    "        for j in range(M):\n",
    "            pro_tmp += fitness_list[j] # pro_tmp是逐渐变大的\n",
    "            if pro <= pro_tmp:\n",
    "                copy_list.append(example_list[j])\n",
    "                break\n",
    "                \n",
    "    return copy_list"
   ]
  },
  {
   "cell_type": "code",
   "execution_count": 8,
   "metadata": {},
   "outputs": [],
   "source": [
    "X = train(M = 100)\n"
   ]
  },
  {
   "cell_type": "code",
   "execution_count": 9,
   "metadata": {},
   "outputs": [],
   "source": [
    "def crossover(code1, code2, p_crossover = 0.85):\n",
    "\n",
    "    codelen = len(code1)\n",
    "    pro = np.random.random()\n",
    "    if pro < p_crossover:\n",
    "        crosspoint = np.random.randint(codelen)\n",
    "        code1_front = code1[:crosspoint]\n",
    "        code1_back = code1[crosspoint:]\n",
    "        code2_front = code2[:crosspoint]\n",
    "        code2_back = code2[crosspoint:]\n",
    "        code1_new = code1_front + code2_back\n",
    "        code2_new = code2_front + code1_back\n",
    "    else:\n",
    "        code1_new, code2_new = code1, code2\n",
    "        \n",
    "    return code1_new, code2_new"
   ]
  },
  {
   "cell_type": "code",
   "execution_count": 10,
   "metadata": {},
   "outputs": [],
   "source": [
    "def mutation(code, p_variation = 0.1):\n",
    "\n",
    "    codelen = len(code)\n",
    "    pro = np.random.random() \n",
    "    if pro < p_variation:\n",
    "        varpoint = np.random.randint(codelen)\n",
    "        code[varpoint] = 1 - code[varpoint]\n",
    "    return code"
   ]
  },
  {
   "cell_type": "code",
   "execution_count": 12,
   "metadata": {},
   "outputs": [],
   "source": [
    "def GA(X, elite_select = False, generations = 5, copy_times = 6):\n",
    "    # copy_times 交配次数\n",
    "    parents = X\n",
    "    for generation in range(generations):        \n",
    "        parents_selected = RMS(parents, copy_times = copy_times)\n",
    "        # 精英选择\n",
    "        # 在每一次产生新的一代时，首先把当前最优解原封不动的复制到新的一代中。\n",
    "        if elite_select == True:\n",
    "            elite_dict = {}\n",
    "            parents_fitness = np.array([fitness(x[0], x[1]) for x in [decoding(c) for c in parents_selected]])\n",
    "            elite_list = (parents_fitness == np.max(parents_fitness)) # bool类型的list\n",
    "\n",
    "            for t in range(len(elite_list)):\n",
    "                if elite_list[t] == True:\n",
    "                    elite_dict[t] = parents_selected[t] # 当前最优秀的个体dic\n",
    "   \n",
    "        \n",
    "        # 交叉\n",
    "        for j in range(copy_times//2):\n",
    "            parents_selected[2*j], parents_selected[2*j+1] = \\\n",
    "            crossover(parents_selected[2*j], parents_selected[2*j+1])\n",
    "        #变异 \n",
    "        for j in range(copy_times):\n",
    "            parents_selected[j] = mutation(parents_selected[j])\n",
    "            \n",
    "        fitness_list = [fitness(x[0], x[1]) for x in [decoding(c) for c in parents_selected]]\n",
    "        # print(fitness_list)\n",
    "        parents = parents_selected\n",
    "        \n",
    "        if elite_select == True:\n",
    "            for key, value in elite_dict.items():                \n",
    "                if fitness(decoding(parents[key])[0],decoding(parents[key])[1]) < \\\n",
    "                    fitness(decoding(elite_dict[key])[0],decoding(elite_dict[key])[1]):\n",
    "                    parents[key] = elite_dict[key]\n",
    "\n",
    "        if generation % 1 == 0:\n",
    "            print([decoding(x) for x in parents])\n",
    "            \n",
    "    parents_decoding = [decoding(x) for x in parents]\n",
    "    return parents_decoding"
   ]
  },
  {
   "cell_type": "code",
   "execution_count": 13,
   "metadata": {},
   "outputs": [
    {
     "name": "stdout",
     "output_type": "stream",
     "text": [
      "[(2, 2), (7, 7), (1, 5), (2, 7), (6, 3), (6, 5), (5, 6), (6, 7), (7, 7), (5, 1), (5, 7), (6, 6), (5, 7), (6, 2), (6, 1), (2, 7), (6, 6), (6, 5), (5, 1), (4, 6), (7, 5), (1, 7), (7, 6), (6, 7), (7, 6), (6, 3), (1, 7), (1, 5), (5, 6), (6, 6), (7, 5), (1, 5), (6, 3), (7, 7), (7, 0), (7, 6), (4, 6), (7, 2), (4, 4), (6, 6), (7, 1), (2, 5), (6, 7), (5, 7), (6, 7), (6, 7), (6, 1), (7, 4), (7, 5), (7, 5)]\n",
      "[(6, 3), (6, 7), (5, 7), (6, 5), (7, 4), (6, 5), (7, 7), (7, 7), (7, 7), (2, 7), (6, 5), (5, 3), (7, 7), (7, 7), (6, 6), (6, 7), (7, 6), (6, 6), (6, 7), (5, 7), (7, 7), (5, 4), (7, 7), (7, 3), (7, 6), (7, 6), (7, 7), (6, 7), (7, 5), (7, 7), (7, 6), (5, 6), (7, 7), (7, 7), (7, 7), (6, 5), (7, 7), (7, 7), (5, 2), (7, 7), (1, 5), (6, 7), (6, 6), (7, 3), (5, 0), (7, 6), (2, 7), (7, 7), (6, 7), (5, 7)]\n",
      "[(3, 0), (4, 7), (7, 7), (7, 7), (7, 7), (7, 7), (7, 7), (7, 7), (7, 7), (7, 4), (7, 7), (7, 7), (7, 7), (7, 7), (7, 7), (4, 7), (6, 6), (5, 7), (7, 7), (3, 7), (7, 7), (7, 7), (7, 7), (7, 7), (6, 6), (7, 4), (2, 6), (7, 7), (7, 7), (7, 7), (7, 7), (7, 7), (7, 7), (7, 7), (7, 7), (7, 7), (7, 6), (7, 6), (7, 4), (5, 2), (6, 7), (7, 7), (5, 6), (7, 4), (7, 7), (5, 2), (7, 6), (4, 7), (7, 7), (7, 7)]\n",
      "[(7, 7), (3, 7), (7, 7), (7, 7), (7, 7), (7, 7), (7, 7), (7, 7), (7, 7), (7, 7), (7, 7), (7, 7), (7, 7), (7, 7), (7, 7), (4, 7), (7, 7), (7, 7), (7, 7), (7, 7), (7, 7), (7, 7), (7, 7), (7, 7), (7, 7), (7, 7), (5, 7), (7, 7), (7, 7), (7, 7), (7, 7), (7, 7), (7, 7), (7, 7), (7, 7), (7, 7), (7, 7), (7, 7), (7, 7), (4, 7), (6, 7), (7, 7), (7, 4), (7, 4), (7, 7), (4, 7), (4, 7), (4, 7), (7, 7), (7, 7)]\n",
      "[(3, 7), (7, 7), (7, 7), (7, 7), (7, 7), (7, 7), (7, 7), (7, 7), (7, 7), (6, 7), (7, 7), (7, 7), (7, 7), (7, 7), (7, 7), (7, 7), (7, 7), (7, 7), (7, 7), (4, 7), (7, 7), (7, 7), (7, 7), (7, 7), (7, 7), (7, 7), (7, 7), (7, 7), (7, 7), (7, 7), (4, 7), (7, 7), (7, 4), (7, 7), (7, 7), (4, 5), (7, 7), (7, 7), (7, 7), (4, 7), (7, 7), (7, 7), (7, 7), (7, 7), (7, 7), (7, 7), (7, 7), (7, 7), (4, 7), (7, 7)]\n"
     ]
    },
    {
     "data": {
      "text/plain": [
       "[(3, 7),\n",
       " (7, 7),\n",
       " (7, 7),\n",
       " (7, 7),\n",
       " (7, 7),\n",
       " (7, 7),\n",
       " (7, 7),\n",
       " (7, 7),\n",
       " (7, 7),\n",
       " (6, 7),\n",
       " (7, 7),\n",
       " (7, 7),\n",
       " (7, 7),\n",
       " (7, 7),\n",
       " (7, 7),\n",
       " (7, 7),\n",
       " (7, 7),\n",
       " (7, 7),\n",
       " (7, 7),\n",
       " (4, 7),\n",
       " (7, 7),\n",
       " (7, 7),\n",
       " (7, 7),\n",
       " (7, 7),\n",
       " (7, 7),\n",
       " (7, 7),\n",
       " (7, 7),\n",
       " (7, 7),\n",
       " (7, 7),\n",
       " (7, 7),\n",
       " (4, 7),\n",
       " (7, 7),\n",
       " (7, 4),\n",
       " (7, 7),\n",
       " (7, 7),\n",
       " (4, 5),\n",
       " (7, 7),\n",
       " (7, 7),\n",
       " (7, 7),\n",
       " (4, 7),\n",
       " (7, 7),\n",
       " (7, 7),\n",
       " (7, 7),\n",
       " (7, 7),\n",
       " (7, 7),\n",
       " (7, 7),\n",
       " (7, 7),\n",
       " (7, 7),\n",
       " (4, 7),\n",
       " (7, 7)]"
      ]
     },
     "execution_count": 13,
     "metadata": {},
     "output_type": "execute_result"
    }
   ],
   "source": [
    "X = train(M = 100)\n",
    "GA(X, elite_select = True, generations = 5, copy_times = 50)"
   ]
  },
  {
   "cell_type": "code",
   "execution_count": 14,
   "metadata": {},
   "outputs": [
    {
     "name": "stdout",
     "output_type": "stream",
     "text": [
      "[(6, 7), (7, 3), (5, 7), (2, 3), (4, 7), (1, 4), (4, 5), (5, 7), (4, 4), (7, 5), (6, 4), (6, 7), (0, 2), (6, 0), (6, 3), (2, 3), (2, 7), (4, 5), (2, 7), (5, 3), (5, 3), (6, 4), (4, 5), (6, 1), (4, 2), (4, 5), (7, 5), (6, 5), (6, 5), (6, 7), (6, 3), (1, 5), (6, 6), (1, 5), (4, 5), (4, 2), (5, 4), (4, 5), (7, 3), (2, 6), (6, 4), (6, 4), (1, 7), (6, 1), (7, 6), (1, 6), (3, 0), (6, 5), (5, 3), (1, 3)]\n",
      "[(6, 5), (6, 5), (6, 3), (4, 7), (5, 2), (2, 1), (6, 2), (4, 1), (1, 7), (6, 7), (2, 4), (6, 2), (6, 4), (7, 5), (6, 7), (5, 7), (6, 0), (7, 5), (5, 3), (6, 4), (5, 4), (6, 7), (6, 4), (6, 0), (5, 3), (6, 4), (6, 5), (4, 5), (4, 2), (7, 6), (7, 2), (2, 7), (6, 5), (6, 5), (5, 7), (2, 3), (5, 3), (6, 7), (4, 4), (4, 5), (7, 3), (4, 7), (7, 3), (2, 3), (5, 7), (6, 4), (6, 4), (7, 3), (6, 7), (1, 7)]\n",
      "[(6, 4), (6, 5), (5, 3), (7, 3), (7, 3), (5, 2), (6, 4), (6, 7), (4, 5), (4, 2), (7, 7), (6, 6), (5, 4), (6, 5), (6, 5), (6, 7), (2, 7), (1, 7), (1, 3), (6, 7), (1, 4), (5, 3), (5, 7), (6, 4), (5, 6), (5, 5), (5, 7), (4, 7), (6, 4), (6, 5), (6, 2), (7, 4), (6, 1), (7, 5), (7, 5), (6, 7), (7, 3), (6, 7), (6, 7), (5, 5), (6, 3), (6, 6), (7, 5), (6, 7), (0, 4), (5, 2), (2, 7), (2, 5), (5, 7), (2, 3)]\n",
      "[(5, 7), (2, 5), (7, 5), (5, 1), (5, 6), (6, 7), (2, 5), (2, 7), (5, 7), (2, 5), (5, 2), (4, 7), (7, 3), (4, 7), (6, 7), (2, 7), (2, 7), (7, 3), (5, 5), (7, 7), (1, 7), (5, 7), (6, 5), (6, 6), (6, 5), (5, 5), (6, 7), (6, 6), (6, 6), (6, 7), (6, 7), (7, 5), (7, 7), (5, 3), (5, 3), (5, 5), (6, 7), (7, 3), (7, 3), (6, 6), (5, 7), (6, 5), (7, 4), (0, 7), (2, 3), (1, 7), (7, 5), (2, 5), (6, 7), (7, 7)]\n",
      "[(6, 7), (5, 7), (6, 7), (6, 5), (5, 6), (5, 1), (6, 7), (6, 6), (5, 2), (6, 7), (6, 6), (7, 7), (7, 7), (5, 5), (7, 3), (6, 6), (6, 6), (6, 7), (7, 3), (6, 7), (7, 7), (7, 3), (5, 3), (4, 7), (6, 5), (5, 7), (2, 7), (5, 7), (6, 5), (5, 7), (6, 7), (2, 7), (6, 7), (6, 4), (1, 3), (5, 7), (7, 7), (7, 5), (5, 5), (5, 7), (0, 7), (6, 5), (5, 5), (4, 7), (1, 7), (2, 7), (6, 7), (4, 7), (7, 3), (7, 5)]\n"
     ]
    },
    {
     "data": {
      "text/plain": [
       "[(6, 7),\n",
       " (5, 7),\n",
       " (6, 7),\n",
       " (6, 5),\n",
       " (5, 6),\n",
       " (5, 1),\n",
       " (6, 7),\n",
       " (6, 6),\n",
       " (5, 2),\n",
       " (6, 7),\n",
       " (6, 6),\n",
       " (7, 7),\n",
       " (7, 7),\n",
       " (5, 5),\n",
       " (7, 3),\n",
       " (6, 6),\n",
       " (6, 6),\n",
       " (6, 7),\n",
       " (7, 3),\n",
       " (6, 7),\n",
       " (7, 7),\n",
       " (7, 3),\n",
       " (5, 3),\n",
       " (4, 7),\n",
       " (6, 5),\n",
       " (5, 7),\n",
       " (2, 7),\n",
       " (5, 7),\n",
       " (6, 5),\n",
       " (5, 7),\n",
       " (6, 7),\n",
       " (2, 7),\n",
       " (6, 7),\n",
       " (6, 4),\n",
       " (1, 3),\n",
       " (5, 7),\n",
       " (7, 7),\n",
       " (7, 5),\n",
       " (5, 5),\n",
       " (5, 7),\n",
       " (0, 7),\n",
       " (6, 5),\n",
       " (5, 5),\n",
       " (4, 7),\n",
       " (1, 7),\n",
       " (2, 7),\n",
       " (6, 7),\n",
       " (4, 7),\n",
       " (7, 3),\n",
       " (7, 5)]"
      ]
     },
     "execution_count": 14,
     "metadata": {},
     "output_type": "execute_result"
    }
   ],
   "source": [
    "Y = train(M = 100)\n",
    "GA(Y, generations = 5, copy_times = 50)"
   ]
  },
  {
   "cell_type": "code",
   "execution_count": null,
   "metadata": {},
   "outputs": [],
   "source": []
  }
 ],
 "metadata": {
  "kernelspec": {
   "display_name": "Python 3",
   "language": "python",
   "name": "python3"
  },
  "language_info": {
   "codemirror_mode": {
    "name": "ipython",
    "version": 3
   },
   "file_extension": ".py",
   "mimetype": "text/x-python",
   "name": "python",
   "nbconvert_exporter": "python",
   "pygments_lexer": "ipython3",
   "version": "3.6.1"
  }
 },
 "nbformat": 4,
 "nbformat_minor": 2
}
