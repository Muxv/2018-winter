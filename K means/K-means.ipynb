{
 "cells": [
  {
   "cell_type": "code",
   "execution_count": 44,
   "metadata": {},
   "outputs": [],
   "source": [
    "import numpy as np\n",
    "import matplotlib.pyplot as plt"
   ]
  },
  {
   "cell_type": "code",
   "execution_count": 54,
   "metadata": {},
   "outputs": [
    {
     "data": {
      "text/plain": [
       "(40, 2)"
      ]
     },
     "execution_count": 54,
     "metadata": {},
     "output_type": "execute_result"
    }
   ],
   "source": [
    "dataset = np.loadtxt(\"durudataset.txt\")\n",
    "dataset.shape"
   ]
  },
  {
   "cell_type": "code",
   "execution_count": 55,
   "metadata": {},
   "outputs": [],
   "source": [
    "def compute_distance(a, b):\n",
    "    return np.linalg.norm(a - b)"
   ]
  },
  {
   "cell_type": "code",
   "execution_count": 137,
   "metadata": {},
   "outputs": [
    {
     "data": {
      "text/plain": [
       "array([ 0.08488353,  0.20694325])"
      ]
     },
     "execution_count": 137,
     "metadata": {},
     "output_type": "execute_result"
    }
   ],
   "source": [
    "pro = dataset[np.random.randint(0, m, size = 10)]\n",
    "pro[2]"
   ]
  },
  {
   "cell_type": "code",
   "execution_count": 131,
   "metadata": {},
   "outputs": [
    {
     "data": {
      "text/plain": [
       "array([ 0.])"
      ]
     },
     "execution_count": 131,
     "metadata": {},
     "output_type": "execute_result"
    }
   ],
   "source": [
    "belongs = np.zeros((m, 1))\n",
    "belongs[2]"
   ]
  },
  {
   "cell_type": "code",
   "execution_count": null,
   "metadata": {},
   "outputs": [],
   "source": [
    "pro"
   ]
  },
  {
   "cell_type": "code",
   "execution_count": 142,
   "metadata": {},
   "outputs": [],
   "source": [
    "def k_means(dataset, k, iteration = 10):\n",
    "    m, n_features = dataset.shape\n",
    "    history_centroids = []\n",
    "    prototypes = dataset[np.random.randint(0, m, size = k)] # 随机选择k个中心\n",
    "    history_centroids.append(prototypes) # 记录以往的所有中心\n",
    "    prototypes_old = np.zeros(prototypes.shape)\n",
    "    \n",
    "    belongs = np.zeros((m, 1)) # 每个点属于哪一个clusters\n",
    "    cost = 0 # 优化目标\n",
    "    epoch = 0\n",
    "    while epoch < iteration:\n",
    "        epoch += 1\n",
    "        for i in range(m):\n",
    "            cost += compute_distance(dataset[i,:], prototypes[int(np.sum(belongs[i]))])\n",
    "        cost /= m\n",
    "        \n",
    "        for index_instance, instance in enumerate(dataset):\n",
    "            # 对于每一个样本\n",
    "            distances = np.zeros((k, 1)) # 记录此样本到k个clusters的距离\n",
    "            for index_prototype, prototype in enumerate(prototypes):\n",
    "                distances[index_prototype] = compute_distance(prototype, instance)\n",
    "            belongs[index_instance, 0] = np.argmin(distances)\n",
    "        tmp_prototypes = np.zeros((k, n_features)) # 做交换用的中心储存器\n",
    "        \n",
    "        for index in range(k):\n",
    "            # 计算离第index个中心最近的样本标记\n",
    "            instacnes_closest = [i for i in range(len(belongs))if belongs[i] == index]\n",
    "            # 计算新中心\n",
    "            prototype_new = np.mean(dataset[instacnes_closest], axis = 0)\n",
    "            tmp_prototypes[index, :] = prototype_new\n",
    "            \n",
    "        prototypes = tmp_prototypes\n",
    "        \n",
    "        history_centroids.append(tmp_prototypes)\n",
    "        \n",
    "        print(\"The cost is %f\" % cost)\n",
    "        \n",
    "    return prototypes, history_centroids, belongs"
   ]
  },
  {
   "cell_type": "code",
   "execution_count": 144,
   "metadata": {},
   "outputs": [
    {
     "name": "stdout",
     "output_type": "stream",
     "text": [
      "The cost is 1.334783\n",
      "The cost is 0.262290\n",
      "The cost is 0.231731\n",
      "The cost is 0.227632\n",
      "The cost is 0.224172\n",
      "The cost is 0.221251\n",
      "The cost is 0.221178\n",
      "The cost is 0.221176\n",
      "The cost is 0.221176\n",
      "The cost is 0.221176\n"
     ]
    }
   ],
   "source": [
    "prototypes, history_centroids, belongs = k_means(dataset,k = 3, iteration = 10)"
   ]
  },
  {
   "cell_type": "code",
   "execution_count": 145,
   "metadata": {},
   "outputs": [
    {
     "data": {
      "text/plain": [
       "array([[ 1.87372935,  1.76339973],\n",
       "       [ 0.22331067,  0.28960446],\n",
       "       [ 1.38515121,  1.43935704]])"
      ]
     },
     "execution_count": 145,
     "metadata": {},
     "output_type": "execute_result"
    }
   ],
   "source": [
    "prototypes"
   ]
  },
  {
   "cell_type": "code",
   "execution_count": 146,
   "metadata": {},
   "outputs": [
    {
     "data": {
      "text/plain": [
       "array([[ 1.,  1.,  1.,  1.,  1.,  1.,  1.,  1.,  1.,  1.,  1.,  1.,  1.,\n",
       "         1.,  1.,  1.,  1.,  1.,  1.,  1.,  2.,  0.,  2.,  2.,  2.,  0.,\n",
       "         2.,  2.,  0.,  2.,  0.,  0.,  2.,  2.,  2.,  2.,  0.,  0.,  0.,\n",
       "         2.]])"
      ]
     },
     "execution_count": 146,
     "metadata": {},
     "output_type": "execute_result"
    }
   ],
   "source": [
    "belongs.T"
   ]
  },
  {
   "cell_type": "code",
   "execution_count": null,
   "metadata": {},
   "outputs": [],
   "source": []
  }
 ],
 "metadata": {
  "kernelspec": {
   "display_name": "Python 3",
   "language": "python",
   "name": "python3"
  },
  "language_info": {
   "codemirror_mode": {
    "name": "ipython",
    "version": 3
   },
   "file_extension": ".py",
   "mimetype": "text/x-python",
   "name": "python",
   "nbconvert_exporter": "python",
   "pygments_lexer": "ipython3",
   "version": "3.6.1"
  }
 },
 "nbformat": 4,
 "nbformat_minor": 2
}
